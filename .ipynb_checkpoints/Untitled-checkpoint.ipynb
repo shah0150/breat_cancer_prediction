{
 "cells": [
  {
   "cell_type": "code",
   "execution_count": null,
   "metadata": {
    "collapsed": true
   },
   "outputs": [],
   "source": [
    "print(\"Checking all script has been loaded\")\n",
    "import matplotlib.pyplot as plt\n",
    "\n",
    "#Load libraries for data processing\n",
    "import pandas as pd #data processing, CSV file I/O (e.g. pd.read_csv)\n",
    "import numpy as np\n",
    "from scipy.stats import norm\n",
    "import seaborn as sns # visualization\n",
    "\n",
    "print(\"Loaded\")\n",
    "\n",
    "plt.rcParams['figure.figsize'] = (15,8) \n",
    "plt.rcParams['axes.titlesize'] = 'large'\n",
    "\n",
    "data = pd.read_csv('data/clean-data.csv', index_col=False)\n",
    "data.drop('Unnamed: 0',axis=1, inplace=True)\n",
    "print(data.head(2))\n",
    "\n",
    "print(\"Describe the dataset \" , data.describe())\n",
    "\n",
    "print(data.skew())\n",
    "\n",
    "print(data.diagnosis.unique())\n",
    "\n",
    "#lets get the frequency of cancer diagnosis\n",
    "sns.set_style(\"white\")\n",
    "sns.set_context({\"figure.figsize\": (10, 8)})\n",
    "#sns.countplot(data['diagnosis'],label='Count',palette=\"Set3\")\n",
    "\n",
    "#Break up columns into groups, according to their suffix designation \n",
    "#(_mean, _se,\n",
    "# and __worst) to perform visualisation plots off. \n",
    "#Join the 'ID' and 'Diagnosis' back on\n",
    "data_id_diag=data.loc[:,[\"id\",\"diagnosis\"]]\n",
    "data_diag=data.loc[:,[\"diagnosis\"]]\n",
    "\n",
    "#For a merge + slice:\n",
    "data_mean=data.ix[:,1:11]\n",
    "#print(\"Data Mean \", data_mean)\n",
    "\n",
    "hist_mean = data_mean.hist(bins = 10, figsize=(15, 10), grid=False)\n",
    "\n"
   ]
  }
 ],
 "metadata": {
  "kernelspec": {
   "display_name": "Python 3",
   "language": "python",
   "name": "python3"
  },
  "language_info": {
   "codemirror_mode": {
    "name": "ipython",
    "version": 3
   },
   "file_extension": ".py",
   "mimetype": "text/x-python",
   "name": "python",
   "nbconvert_exporter": "python",
   "pygments_lexer": "ipython3",
   "version": "3.6.0"
  }
 },
 "nbformat": 4,
 "nbformat_minor": 2
}
